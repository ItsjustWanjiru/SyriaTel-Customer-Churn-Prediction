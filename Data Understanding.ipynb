{
 "cells": [
  {
   "cell_type": "markdown",
   "metadata": {},
   "source": [
    "# Data Understanding\n",
    "\n",
    "1. **state:** The U.S. state where the customer resides.\n",
    "2. **account length:** The number of days the customer has been with the company.\n",
    "3. **area code:** The three-digit area code associated with the customer's phone number.\n",
    "4. **phone number:** The customer's phone number. It is generally considered a unique identifier and may not provide useful information for modeling.\n",
    "5. **international plan:** Whether the customer has an international calling plan (yes/no).\n",
    "6. **voice mail plan:** Whether the customer has a voice mail plan (yes/no).\n",
    "7. **number vmail messages:** The number of voice mail messages the customer has.\n",
    "8. **total day minutes:** The total number of minutes the customer used during the daytime.\n",
    "9. **total day calls:** The total number of calls the customer made during the daytime.\n",
    "10. **total day charge:** The total charge for daytime usage.\n",
    "11. **total eve minutes:** The total number of minutes the customer used in the evening.\n",
    "12. **total eve calls:** The total number of calls the customer made in the evening.\n",
    "13. **total eve charge:** The total charge for evening usage.\n",
    "14. **total night minutes:** The total number of minutes the customer used at night.\n",
    "15. **total night calls:** The total number of calls the customer made at night.\n",
    "16. **total night charge:** The total charge for nighttime usage.\n",
    "17. **total intl minutes:** The total number of international minutes used.\n",
    "18. **total intl calls:** The total number of international calls made.\n",
    "19. **total intl charge:** The total charge for international usage.\n",
    "20. **customer service calls:** The number of customer service calls made by the customer.\n",
    "21. **churn:** The target variable. Whether the customer churned (left the company) or not (True/False or 1/0)."
   ]
  }
 ],
 "metadata": {
  "kernelspec": {
   "display_name": "Python (learn-env)",
   "language": "python",
   "name": "learn-env"
  },
  "language_info": {
   "codemirror_mode": {
    "name": "ipython",
    "version": 3
   },
   "file_extension": ".py",
   "mimetype": "text/x-python",
   "name": "python",
   "nbconvert_exporter": "python",
   "pygments_lexer": "ipython3",
   "version": "3.8.5"
  }
 },
 "nbformat": 4,
 "nbformat_minor": 4
}
